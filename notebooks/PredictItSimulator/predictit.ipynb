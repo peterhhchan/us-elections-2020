{
 "cells": [
  {
   "cell_type": "markdown",
   "metadata": {},
   "source": [
    "# 2020 US Presidential Elections Winner Simulator\n",
    "This project uses state-by-state predictions from [PredictIt](https://www.predictit.org/) to simulate many hypothetical elections to create an overall prediction: *how often Joe Biden will win the US election*.  \n",
    "\n",
    "If you are unfamiliar with Predictit, it is a financial prediction market where traders can exchange shares based on various political events around the world.  The value of these shares is determined by what traders believe is the likelihood of a particular event.\n",
    "\n",
    "## Imports"
   ]
  },
  {
   "cell_type": "code",
   "execution_count": 52,
   "metadata": {},
   "outputs": [],
   "source": [
    "import csv\n",
    "import io\n",
    "import json\n",
    "import numpy\n",
    "import urllib.request\n",
    "import re"
   ]
  },
  {
   "cell_type": "markdown",
   "metadata": {},
   "source": [
    "We need two sets of data: the number of electoral votes allocated to each congressional district, and the market data from PredictIt.\n",
    "\n",
    "## Download Electoral Votes Data\n",
    "Get the number of electoral votes assigned to each congressional district."
   ]
  },
  {
   "cell_type": "code",
   "execution_count": 53,
   "metadata": {},
   "outputs": [
    {
     "name": "stdout",
     "output_type": "stream",
     "text": [
      "{'CA': 55, 'TX': 38, 'FL': 29, 'NY': 29, 'IL': 20, 'PA': 20, 'OH': 18, 'GA': 16, 'MI': 16, 'NC': 15, 'NJ': 14, 'VA': 13, 'WA': 12, 'AZ': 11, 'IN': 11, 'MA': 11, 'TN': 11, 'MD': 10, 'MN': 10, 'MO': 10, 'WI': 10, 'AL': 9, 'CO': 9, 'SC': 9, 'KY': 8, 'LA': 8, 'CT': 7, 'OK': 7, 'OR': 7, 'AR': 6, 'IA': 6, 'KS': 6, 'MS': 6, 'NV': 6, 'UT': 6, 'NE': 5, 'NM': 5, 'WV': 5, 'HI': 4, 'ID': 4, 'ME': 4, 'NH': 4, 'RI': 4, 'AK': 3, 'DE': 3, 'MT': 3, 'ND': 3, 'SD': 3, 'VT': 3, 'WY': 3, 'DC': 3}\n"
     ]
    }
   ],
   "source": [
    "url_open = urllib.request.urlopen(\"https://raw.githubusercontent.com/peterhhchan/us-elections-2020/master/notebooks/PredictItSimulator/states.csv\")\n",
    "reader = csv.reader(io.TextIOWrapper(url_open, encoding = 'utf-8'), delimiter=',')\n",
    "\n",
    "electoral_votes = {}\n",
    "for v,n,a in reader:\n",
    "    electoral_votes[a]=int(v)\n",
    "    \n",
    "print (electoral_votes)"
   ]
  },
  {
   "cell_type": "markdown",
   "metadata": {},
   "source": [
    "## Download Market Data\n",
    "Grab the latest share prices on PredictIt. Prices will range from 1 cents to 99 cents (0.01 - 0.99). Roughly, a price of 1 cent implies Biden has a 1% chance of winning that state, and a price of 99 cents implies Biden has a 99% chance of winning that state."
   ]
  },
  {
   "cell_type": "code",
   "execution_count": 54,
   "metadata": {},
   "outputs": [
    {
     "name": "stdout",
     "output_type": "stream",
     "text": [
      "{'WI': 0.75, 'PA': 0.72, 'FL': 0.57, 'MI': 0.79, 'AZ': 0.69, 'MN': 0.8, 'NH': 0.8, 'NC': 0.55, 'OH': 0.48, 'NV': 0.8, 'VA': 0.91, 'IA': 0.43, 'GA': 0.45, 'CO': 0.9, 'TX': 0.33, 'ME': 0.89, 'IN': 0.1, 'NM': 0.9, 'NJ': 0.95, 'MO': 0.16, 'OR': 0.93, 'UT': 0.08, 'TN': 0.07, 'CT': 0.95, 'AK': 0.23, 'KY': 0.06, 'MD': 0.95, 'MA': 0.97, 'AR': 0.07, 'WA': 0.95, 'MT': 0.14, 'SC': 0.2, 'CA': 0.95, 'NY': 0.94, 'IL': 0.94, 'WV': 0.05, 'OK': 0.04, 'LA': 0.08, 'ID': 0.04, 'NE': 0.07, 'AL': 0.06, 'KS': 0.12, 'MS': 0.1, 'RI': 0.96, 'HI': 0.96, 'WY': 0.04, 'VT': 0.96, 'DE': 0.96, 'ND': 0.04, 'SD': 0.07, 'DC': 0.98}\n"
     ]
    }
   ],
   "source": [
    "prices = {}\n",
    "markets = json.loads(urllib.request.urlopen(\"https://www.predictit.org/api/marketdata/all/\").read())['markets']\n",
    "for m in markets:\n",
    "    sn = m['shortName']\n",
    "    match = re.search(\"^Which party will win ([A-Z]{2})( in)? 2020\\?$\", sn)\n",
    "    if match:\n",
    "        for c in m['contracts']:\n",
    "            if c['name'] == 'Democratic':\n",
    "                prices[match[1]] = c['lastTradePrice']\n",
    "\n",
    "print (prices)"
   ]
  },
  {
   "cell_type": "markdown",
   "metadata": {},
   "source": [
    "## Calculate the Implied Probability\n",
    "PredictIt charges a 10% fee on profits, the savvy bettor understands that in order to break-even on a 50-cent contract, the contract must win more than 52.6% of the time. Here we convert the price to its implied probability. "
   ]
  },
  {
   "cell_type": "code",
   "execution_count": 55,
   "metadata": {},
   "outputs": [
    {
     "name": "stdout",
     "output_type": "stream",
     "text": [
      "{'WI': 0.7692307692307693, 'PA': 0.7407407407407407, 'FL': 0.5956112852664576, 'MI': 0.8069458631256384, 'AZ': 0.7120743034055727, 'MN': 0.8163265306122449, 'NH': 0.8163265306122449, 'NC': 0.5759162303664922, 'OH': 0.5063291139240507, 'NV': 0.8163265306122449, 'VA': 0.9182643794147326, 'IA': 0.45599151643690344, 'GA': 0.47619047619047616, 'CO': 0.9090909090909092, 'TX': 0.3536977491961415, 'ME': 0.8998988877654196, 'IN': 0.10989010989010989, 'NM': 0.9090909090909092, 'NJ': 0.9547738693467336, 'MO': 0.17467248908296942, 'OR': 0.9365558912386708, 'UT': 0.0881057268722467, 'TN': 0.07717750826901874, 'CT': 0.9547738693467336, 'AK': 0.24918743228602383, 'KY': 0.06622516556291391, 'MD': 0.9547738693467336, 'MA': 0.9729187562688064, 'AR': 0.07717750826901874, 'WA': 0.9547738693467336, 'MT': 0.15317286652078776, 'SC': 0.21739130434782605, 'CA': 0.9547738693467336, 'NY': 0.9456740442655935, 'IL': 0.9456740442655935, 'WV': 0.05524861878453039, 'OK': 0.04424778761061947, 'LA': 0.0881057268722467, 'ID': 0.04424778761061947, 'NE': 0.07717750826901874, 'AL': 0.06622516556291391, 'KS': 0.13157894736842105, 'MS': 0.10989010989010989, 'RI': 0.963855421686747, 'HI': 0.963855421686747, 'WY': 0.04424778761061947, 'VT': 0.963855421686747, 'DE': 0.963855421686747, 'ND': 0.04424778761061947, 'SD': 0.07717750826901874, 'DC': 0.9819639278557114}\n"
     ]
    }
   ],
   "source": [
    "win_prob = {}\n",
    "for s, price in prices.items():\n",
    "    p = float (price)\n",
    "    ## predictit charges a 10% fee on profits\n",
    "    ## the net profit on a 50 cent contract is 45 cents\n",
    "    ## the bettor must win 52.63%+ of the time to breakeven\n",
    "    win_prob[s] = p / ((1 - p) * 0.9 + p)\n",
    "print (win_prob)"
   ]
  },
  {
   "cell_type": "markdown",
   "metadata": {},
   "source": [
    "## Adjust the Probabilities \n",
    "If you think the markets are incorrect, this section is where you could adjust the predictions.\n",
    "\n",
    "Here we apply a global bias. If we think the markets are over-valueing Biden's chances by 25%, we would set our bias to `0.8`."
   ]
  },
  {
   "cell_type": "code",
   "execution_count": 56,
   "metadata": {},
   "outputs": [],
   "source": [
    "bias = 1\n",
    "def apply_bias():\n",
    "    for s, prob in win_prob.items():\n",
    "        win_prob [s] = prob * bias\n",
    "apply_bias()"
   ]
  },
  {
   "cell_type": "markdown",
   "metadata": {},
   "source": [
    "Next, we can apply smooth out our simulations by applying some assumptions to our predictions. \n",
    "\n",
    " * If the market prediction is above `win_threshold`, Biden will always win that district\n",
    " * If the market prediction is below `lose_threshold`, Biden will always lose that district.\n",
    "\n",
    "An interesting set of parameters to use is to set `win_threshold` to *0.8*, and `lose_threshold` to *0.5*."
   ]
  },
  {
   "cell_type": "code",
   "execution_count": 57,
   "metadata": {},
   "outputs": [],
   "source": [
    "win_threshold  = 0.95\n",
    "lose_threshold = 0.05"
   ]
  },
  {
   "cell_type": "code",
   "execution_count": 58,
   "metadata": {},
   "outputs": [
    {
     "name": "stdout",
     "output_type": "stream",
     "text": [
      "{'WI': 0.7692307692307693, 'PA': 0.7407407407407407, 'FL': 0.5956112852664576, 'MI': 0.8069458631256384, 'AZ': 0.7120743034055727, 'MN': 0.8163265306122449, 'NH': 0.8163265306122449, 'NC': 0.5759162303664922, 'OH': 0.5063291139240507, 'NV': 0.8163265306122449, 'VA': 0.9182643794147326, 'IA': 0.45599151643690344, 'GA': 0.47619047619047616, 'CO': 0.9090909090909092, 'TX': 0.3536977491961415, 'ME': 0.8998988877654196, 'IN': 0.10989010989010989, 'NM': 0.9090909090909092, 'NJ': 1.0, 'MO': 0.17467248908296942, 'OR': 0.9365558912386708, 'UT': 0.0881057268722467, 'TN': 0.07717750826901874, 'CT': 1.0, 'AK': 0.24918743228602383, 'KY': 0.06622516556291391, 'MD': 1.0, 'MA': 1.0, 'AR': 0.07717750826901874, 'WA': 1.0, 'MT': 0.15317286652078776, 'SC': 0.21739130434782605, 'CA': 1.0, 'NY': 0.9456740442655935, 'IL': 0.9456740442655935, 'WV': 0.05524861878453039, 'OK': 0, 'LA': 0.0881057268722467, 'ID': 0, 'NE': 0.07717750826901874, 'AL': 0.06622516556291391, 'KS': 0.13157894736842105, 'MS': 0.10989010989010989, 'RI': 1.0, 'HI': 1.0, 'WY': 0, 'VT': 1.0, 'DE': 1.0, 'ND': 0, 'SD': 0.07717750826901874, 'DC': 1.0}\n"
     ]
    }
   ],
   "source": [
    "def apply_thresholds():\n",
    "    for s, prob in win_prob.items():\n",
    "        if prob > win_threshold:   \n",
    "            win_prob [s] = 1.0\n",
    "        elif prob < lose_threshold: \n",
    "            win_prob [s] = 0\n",
    "\n",
    "apply_thresholds() \n",
    "print (win_prob)"
   ]
  },
  {
   "cell_type": "markdown",
   "metadata": {},
   "source": [
    "Alternatively, you can simply update a state's probability via: `win_prob[FL] = 0.5` which means Biden has a 50% chance of winning Florida."
   ]
  },
  {
   "cell_type": "code",
   "execution_count": 59,
   "metadata": {},
   "outputs": [],
   "source": [
    "## Override Democrat's chances of winning\n",
    "# win_prob['FL'] = 0.5\n",
    "# win_prob['AZ'] = 0.5\n",
    "# win_prob['NC'] = 0.5\n",
    "# win_prob['WI'] = 0.5\n",
    "# win_prob['MI'] = 0.5\n",
    "# win_prob['PA'] = 0.5\n",
    "# win_prob['MN'] = 0.5"
   ]
  },
  {
   "cell_type": "markdown",
   "metadata": {},
   "source": [
    "## Prepare the Data\n",
    "1. Arrange the data alphabetically"
   ]
  },
  {
   "cell_type": "code",
   "execution_count": 60,
   "metadata": {},
   "outputs": [
    {
     "name": "stdout",
     "output_type": "stream",
     "text": [
      "[('AK', 0.24918743228602383), ('AL', 0.06622516556291391), ('AR', 0.07717750826901874), ('AZ', 0.7120743034055727), ('CA', 1.0), ('CO', 0.9090909090909092), ('CT', 1.0), ('DC', 1.0), ('DE', 1.0), ('FL', 0.5956112852664576), ('GA', 0.47619047619047616), ('HI', 1.0), ('IA', 0.45599151643690344), ('ID', 0), ('IL', 0.9456740442655935), ('IN', 0.10989010989010989), ('KS', 0.13157894736842105), ('KY', 0.06622516556291391), ('LA', 0.0881057268722467), ('MA', 1.0), ('MD', 1.0), ('ME', 0.8998988877654196), ('MI', 0.8069458631256384), ('MN', 0.8163265306122449), ('MO', 0.17467248908296942), ('MS', 0.10989010989010989), ('MT', 0.15317286652078776), ('NC', 0.5759162303664922), ('ND', 0), ('NE', 0.07717750826901874), ('NH', 0.8163265306122449), ('NJ', 1.0), ('NM', 0.9090909090909092), ('NV', 0.8163265306122449), ('NY', 0.9456740442655935), ('OH', 0.5063291139240507), ('OK', 0), ('OR', 0.9365558912386708), ('PA', 0.7407407407407407), ('RI', 1.0), ('SC', 0.21739130434782605), ('SD', 0.07717750826901874), ('TN', 0.07717750826901874), ('TX', 0.3536977491961415), ('UT', 0.0881057268722467), ('VA', 0.9182643794147326), ('VT', 1.0), ('WA', 1.0), ('WI', 0.7692307692307693), ('WV', 0.05524861878453039), ('WY', 0)]\n"
     ]
    }
   ],
   "source": [
    "win_prob_sorted = sorted(win_prob.items())\n",
    "print (win_prob_sorted)"
   ]
  },
  {
   "cell_type": "markdown",
   "metadata": {},
   "source": [
    "2. Create a `numpy` array of the win probabilities"
   ]
  },
  {
   "cell_type": "code",
   "execution_count": 61,
   "metadata": {},
   "outputs": [
    {
     "name": "stdout",
     "output_type": "stream",
     "text": [
      "[0.24918743 0.06622517 0.07717751 0.7120743  1.         0.90909091\n",
      " 1.         1.         1.         0.59561129 0.47619048 1.\n",
      " 0.45599152 0.         0.94567404 0.10989011 0.13157895 0.06622517\n",
      " 0.08810573 1.         1.         0.89989889 0.80694586 0.81632653\n",
      " 0.17467249 0.10989011 0.15317287 0.57591623 0.         0.07717751\n",
      " 0.81632653 1.         0.90909091 0.81632653 0.94567404 0.50632911\n",
      " 0.         0.93655589 0.74074074 1.         0.2173913  0.07717751\n",
      " 0.07717751 0.35369775 0.08810573 0.91826438 1.         1.\n",
      " 0.76923077 0.05524862 0.        ]\n"
     ]
    }
   ],
   "source": [
    "ps_sorted = numpy.fromiter(dict(win_prob_sorted).values(), dtype=float)\n",
    "print (ps_sorted)"
   ]
  },
  {
   "cell_type": "markdown",
   "metadata": {},
   "source": [
    "3. Create a `numpy` array of the electoral votes"
   ]
  },
  {
   "cell_type": "code",
   "execution_count": 62,
   "metadata": {},
   "outputs": [
    {
     "name": "stdout",
     "output_type": "stream",
     "text": [
      "[ 3  9  6 11 55  9  7  3  3 29 16  4  6  4 20 11  6  8  8 11 10  4 16 10\n",
      " 10  6  3 15  3  5  4 14  5  6 29 18  7  7 20  4  9  3 11 38  6 13  3 12\n",
      " 10  5  3]\n"
     ]
    }
   ],
   "source": [
    "vs_sorted = numpy.fromiter ((v for _,v in sorted(electoral_votes.items())), int)    \n",
    "print (vs_sorted)"
   ]
  },
  {
   "cell_type": "markdown",
   "metadata": {},
   "source": [
    "Combining steps 1-3 into a function"
   ]
  },
  {
   "cell_type": "code",
   "execution_count": 63,
   "metadata": {},
   "outputs": [],
   "source": [
    "def update_arrays():\n",
    "    win_prob_sorted = sorted(win_prob.items())\n",
    "    ps_sorted = numpy.fromiter(dict(win_prob_sorted).values(), dtype=float)\n",
    "    vs_sorted = numpy.fromiter ((v for _,v in sorted(electoral_votes.items())), int)    "
   ]
  },
  {
   "cell_type": "markdown",
   "metadata": {},
   "source": [
    "## Create and Run the Simulation\n",
    "1. Generate a bunch of random numbers, and compare the numbers to the implied probabilities\n",
    "2. If the implied probability is greater than the random number, give Biden the number of votes that corresponds to that state\n",
    "3. Sum up all the votes and see if that number is bigger than 269\n",
    "4. Run steps 1-3 repeatedly and calculate how often Biden wins"
   ]
  },
  {
   "cell_type": "code",
   "execution_count": 64,
   "metadata": {},
   "outputs": [],
   "source": [
    "def simulate(n):\n",
    "    update_arrays()\n",
    "    \n",
    "    rs = numpy.random.rand(n, len(win_prob_sorted))\n",
    "    sims_won = 0\n",
    "    for r in rs:\n",
    "        wins = numpy.greater(ps_sorted , r)\n",
    "        total_votes_won = numpy.sum(numpy.multiply(wins, vs_sorted))\n",
    "        if total_votes_won > 269: ## Tie breaks go to republicans\n",
    "            sims_won+=1\n",
    "\n",
    "    return sims_won / n"
   ]
  },
  {
   "cell_type": "markdown",
   "metadata": {},
   "source": [
    "Run the simulation!"
   ]
  },
  {
   "cell_type": "code",
   "execution_count": 65,
   "metadata": {},
   "outputs": [
    {
     "data": {
      "text/plain": [
       "0.98289"
      ]
     },
     "execution_count": 65,
     "metadata": {},
     "output_type": "execute_result"
    }
   ],
   "source": [
    "simulate (100000)"
   ]
  },
  {
   "cell_type": "markdown",
   "metadata": {},
   "source": [
    "## Limitations\n",
    "1. The biggest problem with this simulator is that it treats the individual results as independent events, which they are not.  \n",
    "\n",
    "2. Nebraska and Maine uses the congressional district method to assign their votes. However, their electoral votes are assigned using the winner-take-all system in our simulations.\n",
    "\n",
    "## Further Reading\n",
    "https://www.270towin.com/"
   ]
  }
 ],
 "metadata": {
  "kernelspec": {
   "display_name": "Python 3",
   "language": "python",
   "name": "python3"
  },
  "language_info": {
   "codemirror_mode": {
    "name": "ipython",
    "version": 3
   },
   "file_extension": ".py",
   "mimetype": "text/x-python",
   "name": "python",
   "nbconvert_exporter": "python",
   "pygments_lexer": "ipython3",
   "version": "3.7.8"
  }
 },
 "nbformat": 4,
 "nbformat_minor": 4
}
