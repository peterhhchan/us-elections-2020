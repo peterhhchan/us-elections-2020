{
 "cells": [
  {
   "cell_type": "markdown",
   "metadata": {},
   "source": [
    "# 2020 US Presidential Elections Winner Simulator\n",
    "This project uses state-by-state predictions from [PredictIt](https://www.predictit.org/) to simulate many hypothetical elections to create an overall prediction: *how often Joe Biden will win the US election*.  \n",
    "\n",
    "If you are unfamiliar with Predictit, it is a financial prediction market where traders can exchange shares based on various political events around the world.  The value of these shares is determined by what traders believe is the likelihood of a particular event.\n",
    "\n",
    "## Imports"
   ]
  },
  {
   "cell_type": "code",
   "execution_count": null,
   "metadata": {},
   "outputs": [],
   "source": [
    "import csv\n",
    "import io\n",
    "import json\n",
    "import numpy\n",
    "import urllib.request\n",
    "import re"
   ]
  },
  {
   "cell_type": "markdown",
   "metadata": {},
   "source": [
    "We need two sets of data: the number of electoral votes allocated to each congressional district, and the market data from PredictIt.\n",
    "\n",
    "## Download Electoral Votes Data\n",
    "Get the number of electoral votes assigned to each congressional district."
   ]
  },
  {
   "cell_type": "code",
   "execution_count": null,
   "metadata": {},
   "outputs": [],
   "source": [
    "url_open = urllib.request.urlopen(\"https://raw.githubusercontent.com/peterhhchan/us-elections-2020/master/states.csv\")\n",
    "reader = csv.reader(io.TextIOWrapper(url_open, encoding = 'utf-8'), delimiter=',')\n",
    "\n",
    "electoral_votes = {}\n",
    "for v,n,a in reader:\n",
    "    electoral_votes[a]=int(v)\n",
    "    \n",
    "print (electoral_votes)"
   ]
  },
  {
   "cell_type": "markdown",
   "metadata": {},
   "source": [
    "## Download Market Data\n",
    "Grab the latest share prices on PredictIt. Prices will range from 1 cents to 99 cents (0.01 - 0.99). Roughly, a price of 1 cent implies Biden has a 1% chance of winning that state, and a price of 99 cents implies Biden has a 99% chance of winning that state."
   ]
  },
  {
   "cell_type": "code",
   "execution_count": null,
   "metadata": {},
   "outputs": [],
   "source": [
    "prices = {}\n",
    "markets = json.loads(urllib.request.urlopen(\"https://www.predictit.org/api/marketdata/all/\").read())['markets']\n",
    "for m in markets:\n",
    "    sn = m['shortName']\n",
    "    match = re.search(\"^Which party will win ([A-Z]{2})( in)? 2020\\?$\", sn)\n",
    "    if match:\n",
    "        for c in m['contracts']:\n",
    "            if c['name'] == 'Democratic':\n",
    "                prices[match[1]] = c['lastTradePrice']\n",
    "\n",
    "print (prices)"
   ]
  },
  {
   "cell_type": "markdown",
   "metadata": {},
   "source": [
    "## Calculate the Implied Probability\n",
    "PredictIt charges a 10% fee on profits, the savvy bettor understands that in order to break-even on a 50-cent contract, the contract must win more than 52.6% of the time. Here we convert the price to its implied probability. "
   ]
  },
  {
   "cell_type": "code",
   "execution_count": null,
   "metadata": {},
   "outputs": [],
   "source": [
    "win_prob = {}\n",
    "for s, price in prices.items():\n",
    "    p = float (price)\n",
    "    ## predictit charges a 10% fee on profits\n",
    "    ## the net profit on a 50 cent contract is 45 cents\n",
    "    ## the bettor must win 52.63%+ of the time to breakeven\n",
    "    win_prob[s] = p / ((1 - p) * 0.9 + p)\n",
    "print (win_prob)"
   ]
  },
  {
   "cell_type": "markdown",
   "metadata": {},
   "source": [
    "## Adjust the Probabilities \n",
    "If you think the markets are incorrect, this section is where you could adjust the predictions.\n",
    "\n",
    "Here we apply a global bias. If we think the markets are over-valueing Biden's chances by 25%, we would set our bias to `0.8`."
   ]
  },
  {
   "cell_type": "code",
   "execution_count": null,
   "metadata": {},
   "outputs": [],
   "source": [
    "bias = 1\n",
    "def apply_bias():\n",
    "    for s, prob in win_prob.items():\n",
    "        win_prob [s] = prob * bias\n",
    "apply_bias()"
   ]
  },
  {
   "cell_type": "markdown",
   "metadata": {},
   "source": [
    "Next, we can apply smooth out our simulations by applying some assumptions to our predictions. \n",
    "\n",
    " * If the market prediction is above `win_threshold`, Biden will always win that district\n",
    " * If the market prediction is below `lose_threshold`, Biden will always lose that district.\n",
    "\n",
    "An interesting set of parameters to use is to set `win_threshold` to *0.8*, and `lose_threshold` to *0.5*."
   ]
  },
  {
   "cell_type": "code",
   "execution_count": null,
   "metadata": {},
   "outputs": [],
   "source": [
    "win_threshold  = 0.95\n",
    "lose_threshold = 0.05"
   ]
  },
  {
   "cell_type": "code",
   "execution_count": null,
   "metadata": {},
   "outputs": [],
   "source": [
    "def apply_thresholds():\n",
    "    for s, prob in win_prob.items():\n",
    "        if prob > win_threshold:   \n",
    "            win_prob [s] = 1.0\n",
    "        elif prob < lose_threshold: \n",
    "            win_prob [s] = 0\n",
    "\n",
    "apply_thresholds() \n",
    "print (win_prob)"
   ]
  },
  {
   "cell_type": "markdown",
   "metadata": {},
   "source": [
    "Alternatively, you can simply update a state's probability via: `win_prob[FL] = 0.5` which means Biden has a 50% chance of winning Florida."
   ]
  },
  {
   "cell_type": "code",
   "execution_count": null,
   "metadata": {},
   "outputs": [],
   "source": [
    "## Override Democrat's chances of winning\n",
    "# win_prob['FL'] = 0.5\n",
    "# win_prob['AZ'] = 0.5\n",
    "# win_prob['NC'] = 0.5\n",
    "# win_prob['WI'] = 0.5\n",
    "# win_prob['MI'] = 0.5\n",
    "# win_prob['PA'] = 0.5\n",
    "# win_prob['MN'] = 0.5"
   ]
  },
  {
   "cell_type": "markdown",
   "metadata": {},
   "source": [
    "## Prepare the Data\n",
    "1. Arrange the data alphabetically"
   ]
  },
  {
   "cell_type": "code",
   "execution_count": null,
   "metadata": {},
   "outputs": [],
   "source": [
    "win_prob_sorted = sorted(win_prob.items())\n",
    "print (win_prob_sorted)"
   ]
  },
  {
   "cell_type": "markdown",
   "metadata": {},
   "source": [
    "2. Create a `numpy` array of the win probabilities"
   ]
  },
  {
   "cell_type": "code",
   "execution_count": null,
   "metadata": {},
   "outputs": [],
   "source": [
    "ps_sorted = numpy.fromiter(dict(win_prob_sorted).values(), dtype=float)\n",
    "print (ps_sorted)"
   ]
  },
  {
   "cell_type": "markdown",
   "metadata": {},
   "source": [
    "3. Create a `numpy` array of the electoral votes"
   ]
  },
  {
   "cell_type": "code",
   "execution_count": null,
   "metadata": {},
   "outputs": [],
   "source": [
    "vs_sorted = numpy.fromiter ((v for _,v in sorted(electoral_votes.items())), int)    \n",
    "print (vs_sorted)"
   ]
  },
  {
   "cell_type": "markdown",
   "metadata": {},
   "source": [
    "Combining steps 1-3 into a function"
   ]
  },
  {
   "cell_type": "code",
   "execution_count": null,
   "metadata": {},
   "outputs": [],
   "source": [
    "def update_arrays():\n",
    "    win_prob_sorted = sorted(win_prob.items())\n",
    "    ps_sorted = numpy.fromiter(dict(win_prob_sorted).values(), dtype=float)\n",
    "    vs_sorted = numpy.fromiter ((v for _,v in sorted(electoral_votes.items())), int)    "
   ]
  },
  {
   "cell_type": "markdown",
   "metadata": {},
   "source": [
    "## Create and Run the Simulation\n",
    "1. Generate a bunch of random numbers, and compare the numbers to the implied probabilities\n",
    "2. If the implied probability is greater than the random number, give Biden the number of votes that corresponds to that state\n",
    "3. Sum up all the votes and see if that number is bigger than 269\n",
    "4. Run steps 1-3 repeatedly and calculate how often Biden wins"
   ]
  },
  {
   "cell_type": "code",
   "execution_count": null,
   "metadata": {},
   "outputs": [],
   "source": [
    "def simulate(n):\n",
    "    update_arrays()\n",
    "    \n",
    "    rs = numpy.random.rand(n, len(win_prob_sorted))\n",
    "    sims_won = 0\n",
    "    for r in rs:\n",
    "        wins = numpy.greater(ps_sorted , r)\n",
    "        total_votes_won = numpy.sum(numpy.multiply(wins, vs_sorted))\n",
    "        if total_votes_won > 269: ## Tie breaks go to republicans\n",
    "            sims_won+=1\n",
    "\n",
    "    return sims_won / n"
   ]
  },
  {
   "cell_type": "markdown",
   "metadata": {},
   "source": [
    "Run the simulation!"
   ]
  },
  {
   "cell_type": "code",
   "execution_count": null,
   "metadata": {},
   "outputs": [],
   "source": [
    "simulate (100000)"
   ]
  },
  {
   "cell_type": "markdown",
   "metadata": {},
   "source": [
    "## Limitations\n",
    "1. The biggest problem with this simulator is that it treats the individual results as independent events, which they are not.  \n",
    "\n",
    "2. Nebraska and Maine uses the congressional district method to assign their votes. However, their electoral votes are assigned using the winner-take-all system in our simulations.\n",
    "\n",
    "## Further Reading\n",
    "https://www.270towin.com/"
   ]
  }
 ],
 "metadata": {
  "kernelspec": {
   "display_name": "Python 3",
   "language": "python",
   "name": "python3"
  },
  "language_info": {
   "codemirror_mode": {
    "name": "ipython",
    "version": 3
   },
   "file_extension": ".py",
   "mimetype": "text/x-python",
   "name": "python",
   "nbconvert_exporter": "python",
   "pygments_lexer": "ipython3",
   "version": "3.7.8"
  }
 },
 "nbformat": 4,
 "nbformat_minor": 4
}
